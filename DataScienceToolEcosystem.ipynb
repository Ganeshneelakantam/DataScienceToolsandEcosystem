{
 "cells": [
  {
   "cell_type": "markdown",
   "id": "3eebde73-adf1-4d94-80ab-7ccc29f2cfe2",
   "metadata": {},
   "source": [
    "# Data Science Tools Ecosystem"
   ]
  },
  {
   "cell_type": "markdown",
   "id": "17ce255e-fe38-440e-ae55-4203df24dee2",
   "metadata": {},
   "source": [
    "#### In this notebook, Data Science Tools and Ecosystem are summarized."
   ]
  },
  {
   "cell_type": "markdown",
   "id": "a4e39944-d9cc-4597-b3b9-ac730e2daff0",
   "metadata": {},
   "source": [
    "#### Some of the popular languages data science uses are:\n",
    "1. Python\n",
    "2. R\n",
    "3. SQL\n",
    "4. C++\n",
    "5. Java etc..."
   ]
  },
  {
   "cell_type": "markdown",
   "id": "645316d6-ae34-4512-96f8-0a8a4363434c",
   "metadata": {},
   "source": [
    "### Some of the commonly used libraries used by data science include:\n",
    "1. Tensorflow\n",
    "2. NumPy\n",
    "3. Pandas\n",
    "4. SciPy\n",
    "5. Keras\n",
    "6. Scikit-learn\n",
    "7. Matplotlib\n",
    "8. PyTorch etc..."
   ]
  },
  {
   "cell_type": "markdown",
   "id": "8c0fa6b4-f734-4da4-8d3f-1d3c063dbd2e",
   "metadata": {},
   "source": [
    "|Data Science|\n",
    "|---|\n",
    "|SAS|\n",
    "|Apache Hadoop|\n",
    "|PyTorch|\n",
    "|Matplotlib|\n",
    "|Scikit-learn|"
   ]
  },
  {
   "cell_type": "markdown",
   "id": "3e7eb0eb-59ef-400f-a752-fc776537b4b2",
   "metadata": {},
   "source": [
    "### Below are a few examples of evaluating arthmetic expressions in python."
   ]
  },
  {
   "cell_type": "code",
   "execution_count": 2,
   "id": "248b139e-1d7d-47e4-bfb7-5393bb9abf64",
   "metadata": {
    "tags": []
   },
   "outputs": [
    {
     "data": {
      "text/plain": [
       "30"
      ]
     },
     "execution_count": 2,
     "metadata": {},
     "output_type": "execute_result"
    }
   ],
   "source": [
    "# This is common expression which 1st multiply and then add integer.\n",
    "(4*5)+10"
   ]
  },
  {
   "cell_type": "code",
   "execution_count": 4,
   "id": "31f35d2d-9a5a-432f-acb7-b5ff36198eed",
   "metadata": {
    "tags": []
   },
   "outputs": [
    {
     "data": {
      "text/plain": [
       "5.0"
      ]
     },
     "execution_count": 4,
     "metadata": {},
     "output_type": "execute_result"
    }
   ],
   "source": [
    "# This will 300 min to hours dividing by 60 min\n",
    "300/60"
   ]
  },
  {
   "cell_type": "markdown",
   "id": "34990dd3-0b92-4f3b-a28d-0265985ce4d3",
   "metadata": {},
   "source": [
    "## Objectives\n",
    "* List popular languages in data science.\n",
    "* List popular libraries used in data science field.\n",
    "* List of well known data science tools.\n",
    "* How to provide comments in cells."
   ]
  },
  {
   "cell_type": "markdown",
   "id": "0d684795-5aea-4ac5-aa1e-b4b27a3a18cb",
   "metadata": {},
   "source": [
    "## Author\n",
    "Siva Naga Sai Ganesh"
   ]
  },
  {
   "cell_type": "code",
   "execution_count": null,
   "id": "110c39ac-592b-4836-b4cb-3c5a147f5472",
   "metadata": {},
   "outputs": [],
   "source": []
  }
 ],
 "metadata": {
  "kernelspec": {
   "display_name": "Python",
   "language": "python",
   "name": "conda-env-python-py"
  },
  "language_info": {
   "codemirror_mode": {
    "name": "ipython",
    "version": 3
   },
   "file_extension": ".py",
   "mimetype": "text/x-python",
   "name": "python",
   "nbconvert_exporter": "python",
   "pygments_lexer": "ipython3",
   "version": "3.7.12"
  }
 },
 "nbformat": 4,
 "nbformat_minor": 5
}
